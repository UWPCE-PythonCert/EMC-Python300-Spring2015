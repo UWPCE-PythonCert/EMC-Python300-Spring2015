{
 "cells": [
  {
   "cell_type": "markdown",
   "metadata": {},
   "source": [
    "Assorted numpy Constructors\n",
    "-----------------------------"
   ]
  },
  {
   "cell_type": "code",
   "execution_count": 13,
   "metadata": {
    "collapsed": false
   },
   "outputs": [],
   "source": [
    "#Always need to import it... \n",
    "import numpy as np"
   ]
  },
  {
   "cell_type": "code",
   "execution_count": 14,
   "metadata": {
    "collapsed": false
   },
   "outputs": [
    {
     "data": {
      "text/plain": [
       "array([[ 1.,  1.],\n",
       "       [ 1.,  1.],\n",
       "       [ 1.,  1.]])"
      ]
     },
     "execution_count": 14,
     "metadata": {},
     "output_type": "execute_result"
    }
   ],
   "source": [
    "# from scratch:\n",
    "a = np.ones((3,2)) # default dtype is float64\n",
    "a"
   ]
  },
  {
   "cell_type": "code",
   "execution_count": 15,
   "metadata": {
    "collapsed": false
   },
   "outputs": [
    {
     "data": {
      "text/plain": [
       "dtype('float64')"
      ]
     },
     "execution_count": 15,
     "metadata": {},
     "output_type": "execute_result"
    }
   ],
   "source": [
    "a.dtype\n"
   ]
  },
  {
   "cell_type": "code",
   "execution_count": 16,
   "metadata": {
    "collapsed": false
   },
   "outputs": [
    {
     "name": "stdout",
     "output_type": "stream",
     "text": [
      "[[0 0 0]\n",
      " [0 0 0]]\n"
     ]
    }
   ],
   "source": [
    "print np.zeros((2,3), dtype=np.int32)"
   ]
  },
  {
   "cell_type": "code",
   "execution_count": 17,
   "metadata": {
    "collapsed": false
   },
   "outputs": [
    {
     "name": "stdout",
     "output_type": "stream",
     "text": [
      "[ 2.   2.5  3.   3.5  4.   4.5  5.   5.5  6.   6.5  7.   7.5  8.   8.5  9.\n",
      "  9.5]\n"
     ]
    }
   ],
   "source": [
    "# for a range:\n",
    "# integers (much like the regular range...)\n",
    "print np.arange(2, 10, .5)"
   ]
  },
  {
   "cell_type": "code",
   "execution_count": 21,
   "metadata": {
    "collapsed": false
   },
   "outputs": [
    {
     "name": "stdout",
     "output_type": "stream",
     "text": [
      "[[ 0.63023663  0.26180804]\n",
      " [ 0.57476589  0.54141011]\n",
      " [ 0.54888294  0.81639635]\n",
      " [ 0.73748931  0.19972066]\n",
      " [ 0.37916624  0.04227089]\n",
      " [ 0.07838801  0.58032877]\n",
      " [ 0.53460915  0.30913274]\n",
      " [ 0.5672859   0.66615391]\n",
      " [ 0.69445304  0.94356537]\n",
      " [ 0.77218008  0.41146719]]\n"
     ]
    }
   ],
   "source": [
    "# use random\n",
    "print np.random.rand(10,2)"
   ]
  },
  {
   "cell_type": "code",
   "execution_count": 19,
   "metadata": {
    "collapsed": false
   },
   "outputs": [
    {
     "name": "stdout",
     "output_type": "stream",
     "text": [
      "[[8 6]\n",
      " [0 2]]\n"
     ]
    }
   ],
   "source": [
    "print np.random.randint(10,size=(2,2))"
   ]
  },
  {
   "cell_type": "code",
   "execution_count": 26,
   "metadata": {
    "collapsed": false
   },
   "outputs": [
    {
     "name": "stdout",
     "output_type": "stream",
     "text": [
      "[ 1  5 10]\n"
     ]
    }
   ],
   "source": [
    "# for floats\n",
    "# from zero to 1\n",
    "print np.linspace(1,10,dtype=np.int32,num=3)"
   ]
  },
  {
   "cell_type": "code",
   "execution_count": 31,
   "metadata": {
    "collapsed": false
   },
   "outputs": [
    {
     "name": "stdout",
     "output_type": "stream",
     "text": [
      "[ 0.1  0.2  0.3  0.4  0.5  0.6  0.7  0.8  0.9  1. ]\n"
     ]
    }
   ],
   "source": [
    "# you can do arange with floats, too\n",
    "# but it can get wierd with floating point error!\n",
    "print np.arange(0.1,1.1, 0.1, dtype=np.float)"
   ]
  },
  {
   "cell_type": "code",
   "execution_count": 66,
   "metadata": {
    "collapsed": false
   },
   "outputs": [
    {
     "name": "stdout",
     "output_type": "stream",
     "text": [
      "[    1.             1.1513954      1.32571137     1.52641797     1.75751062\n",
      "     2.02358965     2.32995181     2.6826958      3.0888436      3.55648031\n",
      "     4.09491506     4.71486636     5.42867544     6.25055193     7.19685673\n",
      "     8.28642773     9.54095476    10.98541142    12.64855217    14.56348478\n",
      "    16.76832937    19.30697729    22.22996483    25.59547923    29.47051703\n",
      "    33.93221772    39.06939937    44.98432669    51.79474679    59.63623317\n",
      "    68.6648845     79.06043211    91.0298178    104.81131342   120.67926406\n",
      "   138.94954944   159.98587196   184.20699693   212.09508879   244.20530945\n",
      "   281.1768698    323.74575428   372.75937203   429.19342601   494.17133613\n",
      "   568.9866029    655.12855686   754.31200634   868.51137375  1000.        ]\n"
     ]
    }
   ],
   "source": [
    "# if you are a math/scicnce geek, adn want a log axis...\n",
    "print np.logspace(0, 3)"
   ]
  },
  {
   "cell_type": "code",
   "execution_count": 47,
   "metadata": {
    "collapsed": false
   },
   "outputs": [
    {
     "name": "stdout",
     "output_type": "stream",
     "text": [
      "[[ 1.  2.]\n",
      " [ 3.  4.]\n",
      " [ 5.  6.]]\n"
     ]
    }
   ],
   "source": [
    "# from existing data:\n",
    "# maybe the most common constructor \n",
    "a = np.array([(1, 2),\n",
    "                (3, 4.0),\n",
    "                (5, 6)]) # auto-determined dtype\n",
    "print a"
   ]
  },
  {
   "cell_type": "code",
   "execution_count": 48,
   "metadata": {
    "collapsed": false
   },
   "outputs": [
    {
     "data": {
      "text/plain": [
       "(3, 2)"
      ]
     },
     "execution_count": 48,
     "metadata": {},
     "output_type": "execute_result"
    }
   ],
   "source": [
    "a.shape"
   ]
  },
  {
   "cell_type": "code",
   "execution_count": 49,
   "metadata": {
    "collapsed": false
   },
   "outputs": [
    {
     "name": "stdout",
     "output_type": "stream",
     "text": [
      "True\n"
     ]
    }
   ],
   "source": [
    "# maybe an array?\n",
    "a = np.arange(5)\n",
    "b = np.asarray(a)\n",
    "print a is b"
   ]
  },
  {
   "cell_type": "code",
   "execution_count": 50,
   "metadata": {
    "collapsed": false
   },
   "outputs": [
    {
     "name": "stdout",
     "output_type": "stream",
     "text": [
      "False\n"
     ]
    }
   ],
   "source": [
    "#or not:\n",
    "a = range(5)\n",
    "b = np.asarray(a)\n",
    "print a is b"
   ]
  },
  {
   "cell_type": "code",
   "execution_count": 74,
   "metadata": {
    "collapsed": false
   },
   "outputs": [
    {
     "name": "stdout",
     "output_type": "stream",
     "text": [
      "[[ 7 92 89 87 64 95 29 68 82 88]\n",
      " [54 55 29 61 43 28 24 21 91 17]\n",
      " [49 76 12 37 63 93 40 14 62 75]\n",
      " [36 39 84 14 59 59 13 27 36 65]\n",
      " [61 93 51 43 31 17 98 18 17 10]\n",
      " [65 10 25 70 89  1 29 11 10 54]\n",
      " [19 25 29 74 16 58  4 22 43 60]\n",
      " [29 16 43 18 31 12 73 83 13 69]\n",
      " [64  9 71 77 36 44 80  9 39 27]\n",
      " [85 45 57 25 14 39  2 26 82 88]]\n"
     ]
    }
   ],
   "source": [
    "x = np.random.randint(100,size=(10,10))\n",
    "print x"
   ]
  },
  {
   "cell_type": "code",
   "execution_count": 76,
   "metadata": {
    "collapsed": false
   },
   "outputs": [
    {
     "name": "stdout",
     "output_type": "stream",
     "text": [
      "[92 29 37 59 17 29 22 13 27]\n"
     ]
    }
   ],
   "source": [
    "print x.diagonal(offset=1)"
   ]
  },
  {
   "cell_type": "code",
   "execution_count": null,
   "metadata": {
    "collapsed": true
   },
   "outputs": [],
   "source": []
  }
 ],
 "metadata": {
  "kernelspec": {
   "display_name": "Python 2",
   "language": "python",
   "name": "python2"
  },
  "language_info": {
   "codemirror_mode": {
    "name": "ipython",
    "version": 2
   },
   "file_extension": ".py",
   "mimetype": "text/x-python",
   "name": "python",
   "nbconvert_exporter": "python",
   "pygments_lexer": "ipython2",
   "version": "2.7.6"
  }
 },
 "nbformat": 4,
 "nbformat_minor": 0
}
